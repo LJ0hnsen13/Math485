{
 "cells": [
  {
   "cell_type": "code",
   "execution_count": null,
   "id": "4ab0ade9-1507-4c7b-ad54-08cb998f252e",
   "metadata": {},
   "outputs": [],
   "source": [
    "import pandas as pd\n",
    "import numpy as np\n",
    "import matplotlib.pyplot as plt\n",
    "import seaborn as sns\n",
    "import os\n",
    "os.chdir(\"C:/Users/luke/MATH 485 PROJECT\")"
   ]
  },
  {
   "cell_type": "code",
   "execution_count": null,
   "id": "3fcaf7d8-17b3-41e9-abf4-5cfe6666ea99",
   "metadata": {},
   "outputs": [],
   "source": [
    "states = [\n",
    "    'Alabama', 'Alaska', 'Arizona', 'Arkansas', 'California', 'Colorado', \n",
    "    'Connecticut', 'Delaware', 'Florida', 'Georgia', 'Hawaii', 'Idaho', \n",
    "    'Illinois', 'Indiana', 'Iowa', 'Kansas', 'Kentucky', 'Louisiana', \n",
    "    'Maine', 'Maryland', 'Massachusetts', 'Michigan', 'Minnesota', \n",
    "    'Mississippi', 'Missouri', 'Montana', 'Nebraska', 'Nevada', \n",
    "    'New Hampshire', 'New Jersey', 'New Mexico', 'New York', 'North Carolina', \n",
    "    'North Dakota', 'Ohio', 'Oklahoma', 'Oregon', 'Pennsylvania', \n",
    "    'Rhode Island', 'South Carolina', 'South Dakota', 'Tennessee', 'Texas', \n",
    "    'Utah', 'Vermont', 'Virginia', 'Washington', 'West Virginia', 'Wisconsin', \n",
    "    'Wyoming']\n",
    "\n",
    "newdf = pd.DataFrame(columns=['state', 'Homicide', 'Suicide'])\n",
    "\n",
    "for state in states:\n",
    "    print(f\"Processing data for: {state}\")\n",
    "\n",
    "    try:\n",
    "        # Load the state's Excel file\n",
    "        df = pd.read_csv('C:/Users/luke/MATH 485 PROJECT/' + state + '.csv', encoding='ISO-8859-1')\n",
    "\n",
    "        df['Deaths'] = pd.to_numeric(df['Deaths'].str.replace(',', ''), errors='coerce')\n",
    "        df['Population'] = pd.to_numeric(df['Population'].str.replace(',', ''), errors='coerce')\n",
    "        \n",
    "        # Filter rows for 'Suicide' and 'Homicide'\n",
    "        suicide_row = df[df['ï»¿\"Intent\"'] == 'Suicide']\n",
    "        homicide_row = df[df['ï»¿\"Intent\"'] == 'Homicide']\n",
    "        \n",
    "        if not suicide_row.empty and not homicide_row.empty:\n",
    "            # Extract the death counts and population\n",
    "            suicide_deaths = suicide_row['Deaths'].values[0]\n",
    "            homicide_deaths = homicide_row['Deaths'].values[0]\n",
    "            population = suicide_row['Population'].values[0]  # Assuming population is the same for all rows\n",
    "\n",
    "            # Calculate the rates\n",
    "            suicide_rate = (suicide_deaths / population) * 100000  # per 100,000 population\n",
    "            homicide_rate = (homicide_deaths / population) * 100000  # per 100,000 population\n",
    "            \n",
    "            row = pd.DataFrame({\n",
    "                    'state': [state],        # State name\n",
    "                    'Homicide': [homicide_rate],  # Homicide rate\n",
    "                    'Suicide': [suicide_rate]     # Suicide rate\n",
    "                })\n",
    "                \n",
    "                # Append the row to the new DataFrame\n",
    "            newdf = pd.concat([newdf, row], ignore_index=True)\n",
    "            \n",
    "            # Print the results\n",
    "            print(f\"Homicide Rate: {homicide_rate:.2f} per 100,000, Suicide Rate: {suicide_rate:.2f} per 100,000\")\n",
    "        else:\n",
    "            print(f\"Missing data for 'Suicide' or 'Homicide' in {state}.xlsx\")\n",
    "    \n",
    "    except FileNotFoundError:\n",
    "        print(f\"File for {state} not found.\")\n",
    "    except Exception as e:\n",
    "        print(f\"An error occurred while processing {state}: {e}\")\n",
    "newdf.head()"
   ]
  },
  {
   "cell_type": "raw",
   "id": "d99930ed-c704-4abf-8926-2ce8aa45108d",
   "metadata": {},
   "source": []
  }
 ],
 "metadata": {
  "kernelspec": {
   "display_name": "Python 3 (ipykernel)",
   "language": "python",
   "name": "python3"
  },
  "language_info": {
   "codemirror_mode": {
    "name": "ipython",
    "version": 3
   },
   "file_extension": ".py",
   "mimetype": "text/x-python",
   "name": "python",
   "nbconvert_exporter": "python",
   "pygments_lexer": "ipython3",
   "version": "3.12.4"
  }
 },
 "nbformat": 4,
 "nbformat_minor": 5
}
