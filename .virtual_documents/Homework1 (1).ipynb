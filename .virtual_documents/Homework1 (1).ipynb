import pandas as pd
import numpy as np
import os
os.chdir("C:/Users/luke/OneDrive/Data Science Course")
df = pd.read_csv('dhs_service_records_synthesized_final.csv')



#In Class Exercises 2:
# Which recipient has the highest number of records among all recipients?
DF = df.groupby("MCI_UNIQ_ID").count().sort_values(by="service", ascending=False)
print(DF.iloc[0])


#How many recipients used the services in January?
dfjan = df[df["DATE_OF_EVENT"] <= "01/31/2021"]
dfjan["MCI_UNIQ_ID"].nunique()


#For each month, how many recipients used services? -- linspace 12
dfmonth = df.groupby("DATE_OF_EVENT")
dfmonth["MCI_UNIQ_ID"].count()


#Given an ID, how many months did the particular recipient (by ID) use the service? e.g., 449747
ID = 449747
df[df["MCI_UNIQ_ID"] == ID]["DATE_OF_EVENT"].nunique()


#In class exercises 3
#Identify the top services by number of recipients you can choose to do by other measures
#(e.g., total usage months)
    
def get_recipient_attribute(df):
    recipient = df.groupby("service").agg(
        count_of_service = ('MCI_UNIQ_ID', 'count')
    ).reset_index()
    return recipient
get_recipient_attribute(df).sort_values(by="count_of_service", ascending = False).head(3)
        


#define a python function that computes characteristic attributes for services
#input: the service recipient event dataset
#output: a data frame, with rows for services and columns for various attributes of the services
df.info()
df['DATE_OF_EVENT'] = pd.to_datetime(df['DATE_OF_EVENT'])
def get_recipient_attribute(df):
    recipient = df.groupby("service").agg(
        count_of_service = ('MCI_UNIQ_ID', 'count'),
        average_age = ('age', 'mean'),
        start_date = ('DATE_OF_EVENT', 'first')
    ).reset_index()
    return recipient
df_services = get_recipient_attribute(df).sort_values(by="count_of_service", ascending = False)
df_services
def char_attr_services (df) :
    recipient = df.groupby("service").agg(
    service_attributes = ("service", 'count'),
    count_service = ('count_of_service', 'mean'),
    ).reset_index()
    return recipient
Last_df = char_attr_services(df_services).sort_values(by="count_service", ascending = False).head(5)
Last_df = Last_df.drop('service_attributes', axis = 1)
Last_df


#create a new dataframe that hold attributes for services
#row keyed by service
#columns contain attributes that output by the function you created
#experiment aggregation with or without reset_index() and see what happens
df.info()
df['DATE_OF_EVENT'] = pd.to_datetime(df['DATE_OF_EVENT'])
def get_recipient_attribute(df):
    recipient = df.groupby("service").agg(
        count_of_service = ('MCI_UNIQ_ID', 'count'),
        starting_service = ('DATE_OF_EVENT', 'first'),
        average_age = ('age', 'mean')
    ).reset_index()
    return recipient
    
df_services = get_recipient_attribute(df).sort_values(by="count_of_service", ascending = False)
print(df_services)
#Trying to pivot ^
#df_services = df_services.pivot(index = 'service', columns = ['count_of_service', 'starting_service', 'average_age'])
#print(df_services)


#This only works for one attribute because I'm defining it on previous recipients. 




def get_recipient_attribute(df):
    recipient = df.groupby("service").agg(
        count_of_service = ('MCI_UNIQ_ID', 'nunique'),
        average_monthly = ('MCI_UNIQ_ID', 'count'),
        num_months = ('DATE_OF_EVENT', 'nunique')
    ).reset_index()
    recipient['average_monthly']=recipient['average_monthly']/recipient['num_months']
    return recipient
get_recipient_attribute(df)





def get_number_monthly(df):
    recipient = df.groupby("DATE_OF_EVENT").agg(
        count_of_service = ('MCI_UNIQ_ID', 'nunique'),
    ).reset_index()
    return recipient
get_number_monthly(df)



