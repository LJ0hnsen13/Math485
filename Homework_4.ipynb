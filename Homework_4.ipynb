{
 "cells": [
  {
   "cell_type": "code",
   "execution_count": 57,
   "id": "7fee20e2-33db-43c6-b3a4-db77a8269839",
   "metadata": {},
   "outputs": [],
   "source": [
    "import pandas as pd\n",
    "import numpy as np\n",
    "import matplotlib.pyplot as plt\n",
    "import seaborn as sns\n",
    "from datetime import datetime, timedelta\n",
    "\n",
    "import geopandas as gpd\n",
    "import shapely\n",
    "import skmob\n",
    "from skmob.measures.individual import jump_lengths\n",
    "from skmob.tessellation import tilers\n",
    "from skmob.preprocessing import detection, clustering\n",
    "from skmob.preprocessing import filtering\n",
    "\n",
    "\n",
    "pd.set_option('display.max_columns', 500)\n",
    "pd.set_option('display.max_rows', 200)\n",
    "import warnings\n",
    "warnings.simplefilter(\"ignore\")"
   ]
  },
  {
   "cell_type": "code",
   "execution_count": 58,
   "id": "b79335d9-9188-4950-8948-cc3941876452",
   "metadata": {},
   "outputs": [],
   "source": [
    "import os\n",
    "os.chdir(\"C:/Users/luke/OneDrive/Data Science Course\")\n",
    "events = pd.read_csv(\"Galapagos Tortoise Movement Ecology Programme_2009-2018.csv\", sep=',', parse_dates=[2])\n",
    "new_cols = pd.Series(events.columns.values).str.replace(pat = r\"[-:]\", repl=\"_\", regex=True)\n",
    "tortoise = events.set_axis(labels = new_cols, axis =1)\n",
    "tortoise.drop(tortoise.index[tortoise[\"manually_marked_outlier\"].notna()], inplace = True)\n",
    "tortoise.drop(columns =[\"manually_marked_outlier\"], inplace=True)\n",
    "tortoise.drop(index = tortoise.index[tortoise.isna().any(axis=1)], inplace=True)\n",
    "cols = ['event_id', 'timestamp', 'location_long', 'location_lat',\n",
    "       'eobs_temperature', 'ground_speed', 'heading', 'height_above_ellipsoid',\n",
    "       'individual_local_identifier', 'individual_taxon_canonical_name']\n",
    "tortoise.drop(columns=tortoise.columns.difference(cols), inplace=True)\n",
    "\n",
    "tortoise.insert(loc = 2, column = \"timestamp_UTC\",\n",
    "                value = tortoise['timestamp'].apply(lambda x: x.tz_localize(tz='UTC'))\n",
    "                )\n",
    "tortoise.insert(loc = 3, column = \"timestamp_local\", \n",
    "                value = tortoise[\"timestamp_UTC\"].apply(lambda x: x.tz_convert(tz='US/Pacific'))\n",
    "                )\n",
    "tortoise.sort_values(by = [\"individual_local_identifier\", \"timestamp_local\"], inplace=True)\n",
    "tortoise.insert(loc = 4, column = \"minute_diff\", \n",
    "                value = tortoise.groupby(['individual_local_identifier'])[\"timestamp_local\"].diff()\\\n",
    "                    .apply(lambda x: x/np.timedelta64(1, 'm')).fillna(0).astype('int64')\n",
    "                    )\n",
    "tortoise['year'] = tortoise[\"timestamp_local\"].dt.year\n",
    "tortoise['month'] = tortoise[\"timestamp_local\"].dt.month\n",
    "tortoise['date'] = tortoise[\"timestamp_local\"].dt.date"
   ]
  },
  {
   "cell_type": "code",
   "execution_count": 59,
   "id": "1bb96db7-f226-470c-9901-a6ecf468a63a",
   "metadata": {},
   "outputs": [],
   "source": [
    "import movingpandas as mpd\n",
    "import geopandas as gpd\n",
    "\n",
    "gdf_tortoise = gpd.GeoDataFrame(tortoise)\n",
    "gdf_tortoise[\"geometry\"] = gpd.points_from_xy(gdf_tortoise.location_long, gdf_tortoise.location_lat)\n",
    "\n",
    "conor = tortoise.query(\"individual_local_identifier == 'Connor'\")\n",
    "alison = tortoise.query(\"individual_local_identifier == 'Alison'\")\n",
    "marilyn = tortoise.query(\"individual_local_identifier == 'Marilyn'\")\n",
    "christian = tortoise.query(\"individual_local_identifier == 'Christian'\")\n",
    "steve_devine = tortoise.query(\"individual_local_identifier == 'Steve Devine'\")\n",
    "\n",
    "gdf_alison = gpd.GeoDataFrame(alison)\n",
    "gdf_alison[\"geometry\"] = gpd.points_from_xy(gdf_alison.location_long, gdf_alison.location_lat)\n",
    "gdf_alison_temp = gdf_tortoise.query(\"individual_local_identifier == 'Alison'\")\n",
    "\n",
    "traj_alison = mpd.Trajectory(gdf_alison, \n",
    "            traj_id = \"Individual_local_identifier\", \n",
    "            t='timestamp_local')\n",
    "traj_alison.to_traj_gdf()\n",
    "final_alison = traj_alison.df\n"
   ]
  },
  {
   "cell_type": "code",
   "execution_count": 60,
   "id": "b17f7fb0-f1aa-438b-a726-08a69b29acbc",
   "metadata": {},
   "outputs": [],
   "source": [
    "# marilyn\n",
    "gdf_marilyn= gpd.GeoDataFrame(marilyn)\n",
    "gdf_marilyn[\"geometry\"] = gpd.points_from_xy(gdf_marilyn.location_long, gdf_marilyn.location_lat)\n",
    "gdf_marilyn\n",
    "traj_marilyn = mpd.Trajectory(gdf_marilyn, \n",
    "            traj_id = \"Individual_local_identifier\", \n",
    "            t='timestamp_local')\n",
    "\n",
    "final_marilyn = traj_marilyn.df"
   ]
  },
  {
   "cell_type": "code",
   "execution_count": 61,
   "id": "61784d34-ff96-4286-92e1-80e8f6cb82e0",
   "metadata": {},
   "outputs": [],
   "source": [
    "# conor\n",
    "gdf_conor= gpd.GeoDataFrame(conor)\n",
    "gdf_conor[\"geometry\"] = gpd.points_from_xy(gdf_conor.location_long, gdf_conor.location_lat)\n",
    "traj_conor = mpd.Trajectory(gdf_conor, \n",
    "            traj_id = \"Individual_local_identifier\", \n",
    "            t='timestamp_local')\n",
    "final_conor = traj_conor.df"
   ]
  },
  {
   "cell_type": "code",
   "execution_count": 62,
   "id": "07dc676c-4952-4505-9874-2865082b5d0d",
   "metadata": {},
   "outputs": [],
   "source": [
    "# christian\n",
    "gdf_christian= gpd.GeoDataFrame(christian)\n",
    "gdf_christian[\"geometry\"] = gpd.points_from_xy(gdf_christian.location_long, gdf_christian.location_lat)\n",
    "traj_christian = mpd.Trajectory(gdf_christian, \n",
    "            traj_id = \"Individual_local_identifier\", \n",
    "            t='timestamp_local')\n",
    "final_christian = traj_christian.df"
   ]
  },
  {
   "cell_type": "code",
   "execution_count": 63,
   "id": "7911cc9b-4c5d-4d06-866e-bad2b64d456c",
   "metadata": {},
   "outputs": [],
   "source": [
    "# steve_devine\n",
    "#gdf_steve_devine= gpd.GeoDataFrame(steve_devine)\n",
    "#gdf_steve_devine[\"geometry\"] = gpd.points_from_xy(gdf_steve_devine.location_long, gdf_steve_devine.location_lat)\n",
    "#traj_steve_devine = mpd.Trajectory(gdf_steve_devine, \n",
    "#            traj_id = \"Individual_local_identifier\", \n",
    "#            t='timestamp_local')\n",
    "#final_steve_devine = traj_steve_devine.df"
   ]
  },
  {
   "cell_type": "code",
   "execution_count": 64,
   "id": "60c7d0b0-725c-4205-ba2d-fa131ccd324f",
   "metadata": {},
   "outputs": [],
   "source": [
    "import math\n",
    "import pandas as pd\n",
    "\n",
    "def my_haversine(lat1, lon1, lat2, lon2):\n",
    "    R = 6371e3\n",
    "    phi1=lat1*math.pi/180\n",
    "    phi2=lat2*math.pi/180\n",
    "    delta_phi=(lat2 - lat1)*math.pi / 180\n",
    "    delta_lambda=(lon2 - lon1)*math.pi/180\n",
    "\n",
    "    a=(math.sin(delta_phi / 2)*math.sin(delta_phi / 2)+math.cos(phi1) * math.cos(phi2) *math.sin(delta_lambda / 2) * math.sin(delta_lambda / 2))\n",
    "    c = 2 * math.atan2(math.sqrt(a), math.sqrt(1 - a))\n",
    "\n",
    "    distance = R * c  # in meters\n",
    "    return distance\n",
    "\n",
    "# Calculate the distance for each trajectory\n",
    "def calculate_trajectory_distance(df):\n",
    "    distances = []\n",
    "    for i in range(1, len(df)):\n",
    "        lat1, lon1 = df.iloc[i - 1]['location_lat'], df.iloc[i - 1]['location_long']\n",
    "        lat2, lon2 = df.iloc[i]['location_lat'], df.iloc[i]['location_long']\n",
    "        distance = my_haversine(lat1, lon1, lat2, lon2)\n",
    "        distances.append(distance)\n",
    "    return distances\n",
    "# Add 0 distance for the first entry\n",
    "final_alison['distance'] = [0] + calculate_trajectory_distance(final_alison)  \n",
    "final_conor['distance'] = [0] + calculate_trajectory_distance(final_conor)\n",
    "final_marilyn['distance'] = [0] + calculate_trajectory_distance(final_marilyn)\n",
    "final_christian['distance'] = [0] + calculate_trajectory_distance(final_christian)\n",
    "#final_steve_devine['distance'] = [0] + calculate_trajectory_distance(final_steve_devine)"
   ]
  },
  {
   "cell_type": "code",
   "execution_count": 65,
   "id": "8ffbe84c-f15e-4a7d-be9f-3e3afcbb53d7",
   "metadata": {},
   "outputs": [
    {
     "name": "stdout",
     "output_type": "stream",
     "text": [
      "monthly_cohort\n",
      "2016-05    11589.889729\n",
      "2014-04    10952.728432\n",
      "2013-05    10293.530016\n",
      "2016-04     9941.790138\n",
      "2016-01     9833.611398\n",
      "2015-11     9445.390384\n",
      "2016-03     9240.490131\n",
      "2012-12     8846.319688\n",
      "2013-06     8810.402716\n",
      "2016-02     8754.238611\n",
      "Freq: M, Name: distance, dtype: float64\n"
     ]
    }
   ],
   "source": [
    "f_alison = final_alison.drop(['traj_id',  'timestamp', 'minute_diff', 'eobs_temperature', 'ground_speed', 'heading', 'height_above_ellipsoid', 'individual_taxon_canonical_name', 'individual_local_identifier'], axis = 1)\n",
    "f_alison['date'] = pd.to_datetime(f_alison['date'])\n",
    "f_alison['monthly_cohort'] = f_alison['date'].dt.to_period('M')\n",
    "monthly_distance = f_alison.groupby('monthly_cohort')['distance'].sum()\n",
    "Atop_months = monthly_distance.nlargest(10)\n",
    "print(Atop_months)\n",
    "#These are the top "
   ]
  },
  {
   "cell_type": "code",
   "execution_count": 66,
   "id": "9977e667-ad2e-4942-be76-de8817efda14",
   "metadata": {},
   "outputs": [
    {
     "name": "stdout",
     "output_type": "stream",
     "text": [
      "monthly_cohort\n",
      "2014-05    13826.096676\n",
      "2015-05    13001.414401\n",
      "2012-05    12341.682921\n",
      "2014-06    12029.277058\n",
      "2014-07    12016.713804\n",
      "2015-04    11957.082299\n",
      "2015-06    11738.341257\n",
      "2013-08    11657.250229\n",
      "2012-02    11648.531480\n",
      "2012-06    11629.406923\n",
      "Freq: M, Name: distance, dtype: float64\n"
     ]
    }
   ],
   "source": [
    "f_conor = final_conor.drop(['traj_id',  'timestamp', 'minute_diff', 'eobs_temperature', 'ground_speed', 'heading', 'height_above_ellipsoid', 'individual_taxon_canonical_name', 'individual_local_identifier'], axis = 1)\n",
    "f_conor['date'] = pd.to_datetime(f_conor['date'])\n",
    "f_conor['monthly_cohort'] = f_conor['date'].dt.to_period('M')\n",
    "monthly_distance = f_conor.groupby('monthly_cohort')['distance'].sum()\n",
    "Ctop_months = monthly_distance.nlargest(10)\n",
    "print(Ctop_months)\n",
    "#These are the top"
   ]
  },
  {
   "cell_type": "code",
   "execution_count": 67,
   "id": "18510ec3-9244-4f4a-9994-2d4e510e4e9e",
   "metadata": {},
   "outputs": [
    {
     "name": "stdout",
     "output_type": "stream",
     "text": [
      "monthly_cohort\n",
      "2017-05    21474.955264\n",
      "2016-04    19735.899017\n",
      "2014-06    19622.276109\n",
      "2015-12    19471.238830\n",
      "2012-01    19327.918998\n",
      "2011-05    19327.210384\n",
      "2015-06    19247.302659\n",
      "2018-06    17711.791801\n",
      "2012-06    17363.806493\n",
      "2011-01    16975.427126\n",
      "Freq: M, Name: distance, dtype: float64\n"
     ]
    }
   ],
   "source": [
    "f_christian = final_christian.drop(['traj_id',  'timestamp', 'minute_diff', 'eobs_temperature', 'ground_speed', 'heading', 'height_above_ellipsoid', 'individual_taxon_canonical_name', 'individual_local_identifier'], axis = 1)\n",
    "f_christian['date'] = pd.to_datetime(f_christian['date'])\n",
    "f_christian['monthly_cohort'] = f_christian['date'].dt.to_period('M')\n",
    "monthly_distance = f_christian.groupby('monthly_cohort')['distance'].sum()\n",
    "Chtop_months = monthly_distance.nlargest(10)\n",
    "print(Chtop_months)"
   ]
  },
  {
   "cell_type": "code",
   "execution_count": 68,
   "id": "d370bfb8-a51c-41e7-80de-74e6b08a1683",
   "metadata": {},
   "outputs": [
    {
     "data": {
      "text/plain": [
       "monthly_cohort\n",
       "2015-12    11931.649231\n",
       "2013-10    11558.533041\n",
       "2013-11    11025.342274\n",
       "2018-07    10888.348494\n",
       "2017-08    10751.736050\n",
       "2010-10    10726.712627\n",
       "2011-01    10634.985477\n",
       "2015-11    10617.004352\n",
       "2016-08    10547.724146\n",
       "2011-02    10414.515627\n",
       "Freq: M, Name: distance, dtype: float64"
      ]
     },
     "execution_count": 68,
     "metadata": {},
     "output_type": "execute_result"
    }
   ],
   "source": [
    "f_marilyn = final_marilyn.drop(['traj_id',  'timestamp', 'minute_diff', 'eobs_temperature', 'ground_speed', 'heading', 'height_above_ellipsoid', 'individual_taxon_canonical_name', 'individual_local_identifier'], axis = 1)\n",
    "f_marilyn['date'] = pd.to_datetime(f_marilyn['date'])\n",
    "f_marilyn['monthly_cohort'] = f_marilyn['date'].dt.to_period('M')\n",
    "monthly_distance = f_marilyn.groupby('monthly_cohort')['distance'].sum()\n",
    "Mtop_months = monthly_distance.nlargest(10)\n",
    "Mtop_months"
   ]
  },
  {
   "cell_type": "code",
   "execution_count": 69,
   "id": "43fbde75-6a12-4812-a536-71dc71de7e63",
   "metadata": {},
   "outputs": [],
   "source": [
    "#f_steve_devine = final_steve_devine.drop(['traj_id',  'timestamp', 'minute_diff', 'eobs_temperature', 'ground_speed', 'heading', 'height_above_ellipsoid', 'individual_taxon_canonical_name', 'individual_local_identifier'], axis = 1)\n",
    "#f_steve_devine['date'] = pd.to_datetime(f_steve_devine['date'])\n",
    "#f_steve_devine['monthly_cohort'] = f_steve_devine['date'].dt.to_period('M')\n",
    "#monthly_distance = f_steve_devine.groupby('monthly_cohort')['distance'].sum()\n",
    "#top_3_months = monthly_distance.nlargest(3)\n",
    "#print(top_3_months)"
   ]
  },
  {
   "cell_type": "code",
   "execution_count": null,
   "id": "78930de6-fc6c-45a4-8f18-02c50cc122d4",
   "metadata": {},
   "outputs": [],
   "source": [
    "Overall, the months that the tortoses move seem to be inconsistent"
   ]
  }
 ],
 "metadata": {
  "kernelspec": {
   "display_name": "Python 3 (ipykernel)",
   "language": "python",
   "name": "python3"
  },
  "language_info": {
   "codemirror_mode": {
    "name": "ipython",
    "version": 3
   },
   "file_extension": ".py",
   "mimetype": "text/x-python",
   "name": "python",
   "nbconvert_exporter": "python",
   "pygments_lexer": "ipython3",
   "version": "3.12.4"
  }
 },
 "nbformat": 4,
 "nbformat_minor": 5
}
